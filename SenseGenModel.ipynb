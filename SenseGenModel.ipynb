{
 "cells": [
  {
   "cell_type": "code",
   "execution_count": 29,
   "metadata": {},
   "outputs": [
    {
     "data": {
      "text/plain": [
       "'\\nAuthor: Moustafa Alzantot (malzantot@ucla.edu)\\nAll rights reserved Networked and Embedded Systems Lab (NESL), UCLA.\\nPermission is hereby granted, free of charge, to any person obtaining a copy of this software and associated documentation files (the \"Software\"), to deal in the Software without restriction, including without limitation the rights to use, copy, modify, merge, publish, distribute, sublicense, and/or sell copies of the Software, and to permit persons to whom the Software is furnished to do so, subject to the following conditions:\\nThe above copyright notice and this permission notice shall be included in all copies or substantial portions of the Software.\\nTHE SOFTWARE IS PROVIDED \"AS IS\", WITHOUT WARRANTY OF ANY KIND, EXPRESS OR IMPLIED, INCLUDING BUT NOT LIMITED TO THE WARRANTIES OF MERCHANTABILITY, FITNESS FOR A PARTICULAR PURPOSE AND NONINFRINGEMENT. IN NO EVENT SHALL THE AUTHORS OR COPYRIGHT HOLDERS BE LIABLE FOR ANY CLAIM, DAMAGES OR OTHER LIABILITY, WHETHER IN AN ACTION OF CONTRACT, TORT OR OTHERWISE, ARISING FROM, OUT OF OR IN CONNECTION WITH THE SOFTWARE OR THE USE OR OTHER DEALINGS IN THE SOFTWARE.\\n'"
      ]
     },
     "execution_count": 29,
     "metadata": {},
     "output_type": "execute_result"
    }
   ],
   "source": [
    "\"\"\"\n",
    "Author: Moustafa Alzantot (malzantot@ucla.edu)\n",
    "All rights reserved Networked and Embedded Systems Lab (NESL), UCLA.\n",
    "Permission is hereby granted, free of charge, to any person obtaining a copy of this software and associated documentation files (the \"Software\"), to deal in the Software without restriction, including without limitation the rights to use, copy, modify, merge, publish, distribute, sublicense, and/or sell copies of the Software, and to permit persons to whom the Software is furnished to do so, subject to the following conditions:\n",
    "The above copyright notice and this permission notice shall be included in all copies or substantial portions of the Software.\n",
    "THE SOFTWARE IS PROVIDED \"AS IS\", WITHOUT WARRANTY OF ANY KIND, EXPRESS OR IMPLIED, INCLUDING BUT NOT LIMITED TO THE WARRANTIES OF MERCHANTABILITY, FITNESS FOR A PARTICULAR PURPOSE AND NONINFRINGEMENT. IN NO EVENT SHALL THE AUTHORS OR COPYRIGHT HOLDERS BE LIABLE FOR ANY CLAIM, DAMAGES OR OTHER LIABILITY, WHETHER IN AN ACTION OF CONTRACT, TORT OR OTHERWISE, ARISING FROM, OUT OF OR IN CONNECTION WITH THE SOFTWARE OR THE USE OR OTHER DEALINGS IN THE SOFTWARE.\n",
    "\"\"\""
   ]
  },
  {
   "cell_type": "code",
   "execution_count": 30,
   "metadata": {},
   "outputs": [
    {
     "name": "stdout",
     "output_type": "stream",
     "text": [
      "The autoreload extension is already loaded. To reload it, use:\n",
      "  %reload_ext autoreload\n"
     ]
    }
   ],
   "source": [
    "%load_ext autoreload\n",
    "%autoreload 2\n"
   ]
  },
  {
   "cell_type": "code",
   "execution_count": 31,
   "metadata": {},
   "outputs": [],
   "source": [
    "import data_utils\n",
    "import model_utils\n",
    "import model"
   ]
  },
  {
   "cell_type": "code",
   "execution_count": 32,
   "metadata": {},
   "outputs": [],
   "source": [
    "import matplotlib.pyplot as plt\n",
    "%matplotlib inline"
   ]
  },
  {
   "cell_type": "code",
   "execution_count": 33,
   "metadata": {},
   "outputs": [],
   "source": [
    "import tensorflow.compat.v1 as tf\n",
    "tf.disable_v2_behavior() \n",
    "import numpy as np"
   ]
  },
  {
   "cell_type": "code",
   "execution_count": 34,
   "metadata": {},
   "outputs": [],
   "source": [
    "data = data_utils.load_training_data()"
   ]
  },
  {
   "cell_type": "markdown",
   "metadata": {},
   "source": [
    "## Training the model"
   ]
  },
  {
   "cell_type": "code",
   "execution_count": 35,
   "metadata": {},
   "outputs": [],
   "source": [
    "# To get reasonable outputs, should use something bigger than 1000 !\n",
    "num_epochs = 1000"
   ]
  },
  {
   "cell_type": "code",
   "execution_count": null,
   "metadata": {},
   "outputs": [],
   "source": []
  },
  {
   "cell_type": "code",
   "execution_count": null,
   "metadata": {},
   "outputs": [
    {
     "name": "stdout",
     "output_type": "stream",
     "text": [
      "WARNING:tensorflow:`tf.nn.rnn_cell.MultiRNNCell` is deprecated. This class is equivalent as `tf.keras.layers.StackedRNNCells`, and will be replaced by that in Tensorflow 2.0.\n",
      "Tensor(\"mdn_model/add_1:0\", shape=(40, 72), dtype=float32)\n",
      "Tensor(\"mdn_model/strided_slice:0\", shape=(40, 24), dtype=float32)\n",
      "Tensor(\"mdn_model/Exp:0\", shape=(40, 24), dtype=float32)\n",
      "Tensor(\"mdn_model/y:0\", shape=(4, 10, 1), dtype=float32)\n",
      "WARNING:tensorflow:From /Users/james/Desktop/sensegen/model.py:171: Normal.__init__ (from tensorflow.python.ops.distributions.normal) is deprecated and will be removed after 2019-01-01.\n",
      "Instructions for updating:\n",
      "The TensorFlow Distributions library has moved to TensorFlow Probability (https://github.com/tensorflow/probability). You should update all references to use `tfp.distributions` instead of `tf.distributions`.\n",
      "WARNING:tensorflow:From /usr/local/lib/python3.8/site-packages/tensorflow/python/ops/distributions/normal.py:153: Distribution.__init__ (from tensorflow.python.ops.distributions.distribution) is deprecated and will be removed after 2019-01-01.\n",
      "Instructions for updating:\n",
      "The TensorFlow Distributions library has moved to TensorFlow Probability (https://github.com/tensorflow/probability). You should update all references to use `tfp.distributions` instead of `tf.distributions`.\n",
      "WARNING:tensorflow:From /usr/local/lib/python3.8/site-packages/tensorflow/python/util/dispatch.py:201: calling reduce_sum_v1 (from tensorflow.python.ops.math_ops) with keep_dims is deprecated and will be removed in a future version.\n",
      "Instructions for updating:\n",
      "keep_dims is deprecated, use keepdims instead\n",
      "WARNING:tensorflow:`tf.nn.rnn_cell.MultiRNNCell` is deprecated. This class is equivalent as `tf.keras.layers.StackedRNNCells`, and will be replaced by that in Tensorflow 2.0.\n",
      "Tensor(\"mdn_model_1/add_1:0\", shape=(1, 72), dtype=float32)\n",
      "Tensor(\"mdn_model_1/strided_slice:0\", shape=(1, 24), dtype=float32)\n",
      "Tensor(\"mdn_model_1/Exp:0\", shape=(1, 24), dtype=float32)\n",
      "0   0.40117803\n",
      "1   0.23122519\n",
      "2   0.18913844\n",
      "3   0.14960684\n",
      "4   0.1319322\n",
      "5   0.12631807\n",
      "6   0.124129064\n",
      "7   0.12099192\n",
      "8   0.11737048\n",
      "9   0.1044701\n",
      "10   0.07797714\n",
      "11   -0.06915333\n",
      "12   -0.18561403\n",
      "13   -0.23944949\n",
      "14   -0.30283973\n",
      "15   -0.32037136\n",
      "16   -0.3280427\n",
      "17   -0.36503723\n",
      "18   -0.28163645\n",
      "19   -0.23247373\n",
      "20   -0.27357972\n",
      "21   -0.30006894\n",
      "22   -0.3751812\n",
      "23   -0.33349535\n",
      "24   -0.4730928\n",
      "25   -0.38327885\n",
      "26   -0.4159511\n",
      "27   -0.37187916\n",
      "28   -0.44080728\n",
      "29   -0.3905839\n",
      "30   -0.46327212\n",
      "31   -0.51284206\n",
      "32   -0.43359837\n",
      "33   -0.47039986\n",
      "34   -0.46653005\n",
      "35   -0.47923234\n",
      "36   -0.34236607\n",
      "37   -0.491854\n",
      "38   -0.5133849\n",
      "39   -0.54073936\n",
      "40   -0.5220748\n",
      "41   -0.5718595\n",
      "42   -0.5100446\n",
      "43   -0.541494\n",
      "44   -0.5273764\n",
      "45   -0.4299085\n",
      "46   -0.49229184\n",
      "47   -0.502245\n",
      "48   -0.554855\n",
      "49   -0.52185005\n",
      "50   -0.46928453\n",
      "51   -0.61792344\n",
      "52   -0.6143366\n",
      "53   -0.6856599\n",
      "54   -0.61845237\n",
      "55   -0.63214624\n",
      "56   -0.531037\n",
      "57   -0.4642566\n",
      "58   -0.6153024\n",
      "59   -0.68375504\n",
      "60   -0.7403096\n",
      "61   -0.6888944\n",
      "62   -0.6331447\n",
      "63   -0.62586933\n"
     ]
    }
   ],
   "source": [
    "model_utils.reset_session_and_model()\n",
    "with tf.Session() as sess:\n",
    "    train_config = model.ModelConfig()\n",
    "    test_config = model.ModelConfig()\n",
    "    train_config.learning_rate = 0.0003\n",
    "    train_config.num_layers = 1 \n",
    "    test_config.num_layers = 1\n",
    "    test_config.batch_size = 1\n",
    "    test_config.num_steps = 1\n",
    "    loader = data_utils.DataLoader(data=data,batch_size=train_config.batch_size, num_steps=train_config.num_steps)\n",
    "    train_model = model.MDNModel(train_config, True)\n",
    "    test_model = model.MDNModel(test_config, False)\n",
    "    sess.run(tf.global_variables_initializer())\n",
    "    saver = tf.train.Saver()\n",
    "    for idx in range(num_epochs):\n",
    "        epoch_loss = train_model.train_for_epoch(sess, loader)\n",
    "        print(idx, ' ', epoch_loss)\n",
    "        if (idx+1) % 100 == 0:\n",
    "            saver.save(sess, './models/mdnmodel.ckpt', global_step=idx)\n"
   ]
  },
  {
   "cell_type": "markdown",
   "metadata": {
    "collapsed": true
   },
   "source": [
    "## Sampling from a trained model"
   ]
  },
  {
   "cell_type": "code",
   "execution_count": null,
   "metadata": {},
   "outputs": [],
   "source": [
    "ckpt_path = 'models/mdnmodel.ckpt-999'\n",
    "seq_len = 2000\n",
    "model_utils.reset_session_and_model()\n",
    "true_data = data[0,:2000]\n",
    "with tf.Session() as sess:\n",
    "    test_config = model.ModelConfig()\n",
    "    test_config.num_layers = 1\n",
    "    test_config.batch_size = 1\n",
    "    test_config.num_steps = 1\n",
    "    test_model = model.MDNModel(test_config, True)\n",
    "    test_model.is_training = False\n",
    "    sess.run(tf.global_variables_initializer())\n",
    "    saver = tf.train.Saver()\n",
    "    saver.restore(sess, ckpt_path)\n",
    "    fake_data = test_model.predict(sess, seq_len)\n",
    "fig, axes = plt.subplots(1,2, figsize=((14,8)))\n",
    "axes[0].plot(true_data)\n",
    "axes[0].set_title('True data')\n",
    "axes[1].plot(fake_data)\n",
    "axes[1].set_title('Fake data')"
   ]
  },
  {
   "cell_type": "code",
   "execution_count": null,
   "metadata": {
    "collapsed": true
   },
   "outputs": [],
   "source": []
  }
 ],
 "metadata": {
  "kernelspec": {
   "display_name": "Python 3",
   "language": "python",
   "name": "python3"
  },
  "language_info": {
   "codemirror_mode": {
    "name": "ipython",
    "version": 3
   },
   "file_extension": ".py",
   "mimetype": "text/x-python",
   "name": "python",
   "nbconvert_exporter": "python",
   "pygments_lexer": "ipython3",
   "version": "3.8.9"
  }
 },
 "nbformat": 4,
 "nbformat_minor": 2
}
