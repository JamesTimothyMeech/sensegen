{
 "cells": [
  {
   "cell_type": "code",
   "execution_count": 1,
   "metadata": {},
   "outputs": [],
   "source": [
    "%load_ext autoreload\n",
    "%autoreload 2\n"
   ]
  },
  {
   "cell_type": "code",
   "execution_count": 2,
   "metadata": {
    "collapsed": true
   },
   "outputs": [],
   "source": [
    "import data_utils\n",
    "import model_utils\n",
    "import model"
   ]
  },
  {
   "cell_type": "code",
   "execution_count": 3,
   "metadata": {
    "collapsed": true
   },
   "outputs": [],
   "source": [
    "import matplotlib.pyplot as plt\n",
    "%matplotlib inline"
   ]
  },
  {
   "cell_type": "code",
   "execution_count": 4,
   "metadata": {
    "collapsed": true
   },
   "outputs": [],
   "source": [
    "import tensorflow as tf\n",
    "import numpy as np"
   ]
  },
  {
   "cell_type": "code",
   "execution_count": 5,
   "metadata": {
    "collapsed": true
   },
   "outputs": [],
   "source": [
    "data = data_utils.load_training_data()"
   ]
  },
  {
   "cell_type": "code",
   "execution_count": 16,
   "metadata": {
    "collapsed": true
   },
   "outputs": [],
   "source": [
    "# To get reasonable outputs, should use something bigger than 150 !\n",
    "num_epochs = 150 "
   ]
  },
  {
   "cell_type": "code",
   "execution_count": 17,
   "metadata": {},
   "outputs": [
    {
     "name": "stdout",
     "output_type": "stream",
     "text": [
      "0   0.156879\n",
      "1   0.0624695\n",
      "2   0.0601051\n",
      "3   0.057497\n",
      "4   0.0547422\n",
      "5   0.0539136\n",
      "6   0.0525052\n",
      "7   0.0518497\n",
      "8   0.0513794\n",
      "9   0.0511494\n",
      "10   0.0510611\n",
      "11   0.0510513\n",
      "12   0.0511751\n",
      "13   0.0510055\n",
      "14   0.0507661\n",
      "15   0.0506272\n",
      "16   0.0505315\n",
      "17   0.0503771\n",
      "18   0.0499857\n",
      "19   0.0494083\n",
      "20   0.0490472\n",
      "21   0.0494111\n",
      "22   0.0488856\n",
      "23   0.0488012\n",
      "24   0.0486949\n",
      "25   0.0486631\n",
      "26   0.048608\n",
      "27   0.0483866\n",
      "28   0.0482026\n",
      "29   0.0481025\n",
      "30   0.0477992\n",
      "31   0.0478462\n",
      "32   0.0475438\n",
      "33   0.0472591\n",
      "34   0.0472552\n",
      "35   0.0469012\n",
      "36   0.0467713\n",
      "37   0.0467124\n",
      "38   0.0464514\n",
      "39   0.0468302\n",
      "40   0.0462916\n",
      "41   0.0459995\n",
      "42   0.0457915\n",
      "43   0.0453434\n",
      "44   0.0451813\n",
      "45   0.045062\n",
      "46   0.0448143\n",
      "47   0.0449093\n",
      "48   0.0444876\n",
      "49   0.0440066\n",
      "50   0.0441438\n",
      "51   0.0434412\n",
      "52   0.0433015\n",
      "53   0.0436009\n",
      "54   0.0437197\n",
      "55   0.0431096\n",
      "56   0.04276\n",
      "57   0.0424592\n",
      "58   0.0421468\n",
      "59   0.0419956\n",
      "60   0.0422894\n",
      "61   0.0417198\n",
      "62   0.0414417\n",
      "63   0.0410982\n",
      "64   0.0408435\n",
      "65   0.0405319\n",
      "66   0.0412885\n",
      "67   0.040743\n",
      "68   0.0399255\n",
      "69   0.0400784\n",
      "70   0.0400464\n",
      "71   0.0399053\n",
      "72   0.039419\n",
      "73   0.0391391\n",
      "74   0.0388022\n",
      "75   0.038747\n",
      "76   0.0385068\n",
      "77   0.0392089\n",
      "78   0.03814\n",
      "79   0.0378883\n",
      "80   0.0379985\n",
      "81   0.0379703\n",
      "82   0.0371753\n",
      "83   0.0384938\n",
      "84   0.0374989\n",
      "85   0.0370097\n",
      "86   0.0358894\n",
      "87   0.0368746\n",
      "88   0.0364691\n",
      "89   0.0359733\n",
      "90   0.0358281\n",
      "91   0.0357341\n",
      "92   0.034473\n",
      "93   0.0350093\n",
      "94   0.0350803\n",
      "95   0.0354515\n",
      "96   0.0341605\n",
      "97   0.0343171\n",
      "98   0.0336891\n",
      "99   0.033568\n",
      "100   0.0330919\n",
      "101   0.0333023\n",
      "102   0.0332001\n",
      "103   0.0324177\n",
      "104   0.0324441\n",
      "105   0.0329243\n",
      "106   0.0318531\n",
      "107   0.0326478\n",
      "108   0.0315848\n",
      "109   0.032054\n",
      "110   0.0309786\n",
      "111   0.031081\n",
      "112   0.0312068\n",
      "113   0.0318347\n",
      "114   0.0298795\n",
      "115   0.0298994\n",
      "116   0.0307686\n",
      "117   0.0301008\n",
      "118   0.0292553\n",
      "119   0.0298227\n",
      "120   0.0292189\n",
      "121   0.0299546\n",
      "122   0.0288535\n",
      "123   0.0303006\n",
      "124   0.0291879\n",
      "125   0.0290117\n",
      "126   0.0287464\n",
      "127   0.0290985\n",
      "128   0.0284784\n",
      "129   0.0280525\n",
      "130   0.0279452\n",
      "131   0.0282129\n",
      "132   0.0278059\n",
      "133   0.0279227\n",
      "134   0.0278627\n",
      "135   0.0270066\n",
      "136   0.026845\n",
      "137   0.0263134\n",
      "138   0.0260609\n",
      "139   0.027782\n",
      "140   0.0264799\n",
      "141   0.0271141\n",
      "142   0.0269507\n",
      "143   0.0257131\n",
      "144   0.0258045\n",
      "145   0.026367\n",
      "146   0.0261731\n",
      "147   0.0257777\n",
      "148   0.0248517\n",
      "149   0.025254\n"
     ]
    }
   ],
   "source": [
    "model_utils.reset_session_and_model()\n",
    "with tf.Session() as sess:\n",
    "    train_config = model.ModelConfig()\n",
    "    test_config = model.ModelConfig()\n",
    "    test_config.batch_size = 1\n",
    "    test_config.num_steps = 1\n",
    "    loader = data_utils.DataLoader(data=data,batch_size=train_config.batch_size, num_steps=train_config.num_steps)\n",
    "    train_model = model.RNNModel(train_config, True)\n",
    "    test_model = model.RNNModel(test_config, False)\n",
    "    sess.run(tf.global_variables_initializer())\n",
    "    for idx in range(num_epochs):\n",
    "        epoch_loss = train_model.train_for_epoch(sess, loader)\n",
    "        print(idx, ' ', epoch_loss)\n",
    "    saver = tf.train.Saver()\n",
    "    saver.save(sess, './models/rnnmodel.ckpt', global_step=num_epochs)\n",
    "    sample_preds = test_model.predict(sess, seq_len=4000)\n"
   ]
  },
  {
   "cell_type": "code",
   "execution_count": 20,
   "metadata": {},
   "outputs": [
    {
     "data": {
      "text/plain": [
       "[<matplotlib.lines.Line2D at 0x7f684a011d30>]"
      ]
     },
     "execution_count": 20,
     "metadata": {},
     "output_type": "execute_result"
    },
    {
     "data": {
      "image/png": "[encoded data removed]",
      "text/plain": [
       "<matplotlib.figure.Figure at 0x7f68404aa4a8>"
      ]
     },
     "metadata": {},
     "output_type": "display_data"
    }
   ],
   "source": [
    "plt.plot(sample_preds)"
   ]
  },
  {
   "cell_type": "code",
   "execution_count": null,
   "metadata": {
    "collapsed": true
   },
   "outputs": [],
   "source": []
  }
 ],
 "metadata": {
  "kernelspec": {
   "display_name": "Python 3",
   "language": "python",
   "name": "python3"
  },
  "language_info": {
   "codemirror_mode": {
    "name": "ipython",
    "version": 3
   },
   "file_extension": ".py",
   "mimetype": "text/x-python",
   "name": "python",
   "nbconvert_exporter": "python",
   "pygments_lexer": "ipython3",
   "version": "3.6.1"
  }
 },
 "nbformat": 4,
 "nbformat_minor": 2
}
